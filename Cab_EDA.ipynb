{
 "cells": [
  {
   "cell_type": "markdown",
   "id": "99335463",
   "metadata": {},
   "source": [
    "## G2M insight for Cab Investment firm\n",
    "\n",
    "Due to remarkable growth in the Cab Industry in last few years and multiple key players in the market, it is planning for an investment in Cab industry and as per their Go-to-Market(G2M) strategy they want to understand the market before taking final decision.\n",
    "\n",
    "The followings data sets contain information on 2 cab companies. Below are the list of datasets which are provided for the analysis:\n",
    "\n",
    "* Cab_Data.csv – this file includes details of transaction for 2 cab companies\n",
    "* Customer_ID.csv – this is a mapping table that contains a unique identifier which links the customer’s demographic details\n",
    "* Transaction_ID.csv – this is a mapping table that contains transaction to customer mapping and payment mode\n",
    "* City.csv – this file contains list of US cities, their population and number of cab users\n",
    "\n",
    "Time period of data is from 31/01/2016 to 31/12/2018."
   ]
  },
  {
   "cell_type": "code",
   "execution_count": 1,
   "id": "40c68f4b",
   "metadata": {},
   "outputs": [],
   "source": [
    "# Import libraries\n",
    "import pandas as pd\n",
    "import numpy as np\n",
    "import matplotlib.pyplot as plt\n",
    "import seaborn as sns"
   ]
  },
  {
   "cell_type": "code",
   "execution_count": 2,
   "id": "57045fac",
   "metadata": {},
   "outputs": [],
   "source": [
    "# Read the datasets\n",
    "df_cab = pd.read_csv('data_sets/Cab_Data.csv')\n",
    "df_city = pd.read_csv('data_sets/City.csv')\n",
    "df_c_id = pd.read_csv('data_sets/Customer_ID.csv')\n",
    "df_t_id = pd.read_csv('data_sets/Transaction_ID.csv')"
   ]
  },
  {
   "cell_type": "code",
   "execution_count": 3,
   "id": "837ce967",
   "metadata": {},
   "outputs": [
    {
     "data": {
      "text/html": [
       "<div>\n",
       "<style scoped>\n",
       "    .dataframe tbody tr th:only-of-type {\n",
       "        vertical-align: middle;\n",
       "    }\n",
       "\n",
       "    .dataframe tbody tr th {\n",
       "        vertical-align: top;\n",
       "    }\n",
       "\n",
       "    .dataframe thead th {\n",
       "        text-align: right;\n",
       "    }\n",
       "</style>\n",
       "<table border=\"1\" class=\"dataframe\">\n",
       "  <thead>\n",
       "    <tr style=\"text-align: right;\">\n",
       "      <th></th>\n",
       "      <th>Transaction ID</th>\n",
       "      <th>Date of Travel</th>\n",
       "      <th>Company</th>\n",
       "      <th>City</th>\n",
       "      <th>KM Travelled</th>\n",
       "      <th>Price Charged</th>\n",
       "      <th>Cost of Trip</th>\n",
       "    </tr>\n",
       "  </thead>\n",
       "  <tbody>\n",
       "    <tr>\n",
       "      <th>0</th>\n",
       "      <td>10000011</td>\n",
       "      <td>42377</td>\n",
       "      <td>Pink Cab</td>\n",
       "      <td>ATLANTA GA</td>\n",
       "      <td>30.45</td>\n",
       "      <td>370.95</td>\n",
       "      <td>313.635</td>\n",
       "    </tr>\n",
       "    <tr>\n",
       "      <th>1</th>\n",
       "      <td>10000012</td>\n",
       "      <td>42375</td>\n",
       "      <td>Pink Cab</td>\n",
       "      <td>ATLANTA GA</td>\n",
       "      <td>28.62</td>\n",
       "      <td>358.52</td>\n",
       "      <td>334.854</td>\n",
       "    </tr>\n",
       "    <tr>\n",
       "      <th>2</th>\n",
       "      <td>10000013</td>\n",
       "      <td>42371</td>\n",
       "      <td>Pink Cab</td>\n",
       "      <td>ATLANTA GA</td>\n",
       "      <td>9.04</td>\n",
       "      <td>125.20</td>\n",
       "      <td>97.632</td>\n",
       "    </tr>\n",
       "    <tr>\n",
       "      <th>3</th>\n",
       "      <td>10000014</td>\n",
       "      <td>42376</td>\n",
       "      <td>Pink Cab</td>\n",
       "      <td>ATLANTA GA</td>\n",
       "      <td>33.17</td>\n",
       "      <td>377.40</td>\n",
       "      <td>351.602</td>\n",
       "    </tr>\n",
       "    <tr>\n",
       "      <th>4</th>\n",
       "      <td>10000015</td>\n",
       "      <td>42372</td>\n",
       "      <td>Pink Cab</td>\n",
       "      <td>ATLANTA GA</td>\n",
       "      <td>8.73</td>\n",
       "      <td>114.62</td>\n",
       "      <td>97.776</td>\n",
       "    </tr>\n",
       "  </tbody>\n",
       "</table>\n",
       "</div>"
      ],
      "text/plain": [
       "   Transaction ID  Date of Travel   Company        City  KM Travelled  \\\n",
       "0        10000011           42377  Pink Cab  ATLANTA GA         30.45   \n",
       "1        10000012           42375  Pink Cab  ATLANTA GA         28.62   \n",
       "2        10000013           42371  Pink Cab  ATLANTA GA          9.04   \n",
       "3        10000014           42376  Pink Cab  ATLANTA GA         33.17   \n",
       "4        10000015           42372  Pink Cab  ATLANTA GA          8.73   \n",
       "\n",
       "   Price Charged  Cost of Trip  \n",
       "0         370.95       313.635  \n",
       "1         358.52       334.854  \n",
       "2         125.20        97.632  \n",
       "3         377.40       351.602  \n",
       "4         114.62        97.776  "
      ]
     },
     "execution_count": 3,
     "metadata": {},
     "output_type": "execute_result"
    }
   ],
   "source": [
    "# Show df_cab structure\n",
    "df_cab.head()"
   ]
  },
  {
   "cell_type": "code",
   "execution_count": 4,
   "id": "94093e2f",
   "metadata": {},
   "outputs": [
    {
     "name": "stdout",
     "output_type": "stream",
     "text": [
      "<class 'pandas.core.frame.DataFrame'>\n",
      "RangeIndex: 359392 entries, 0 to 359391\n",
      "Data columns (total 7 columns):\n",
      " #   Column          Non-Null Count   Dtype  \n",
      "---  ------          --------------   -----  \n",
      " 0   Transaction ID  359392 non-null  int64  \n",
      " 1   Date of Travel  359392 non-null  int64  \n",
      " 2   Company         359392 non-null  object \n",
      " 3   City            359392 non-null  object \n",
      " 4   KM Travelled    359392 non-null  float64\n",
      " 5   Price Charged   359392 non-null  float64\n",
      " 6   Cost of Trip    359392 non-null  float64\n",
      "dtypes: float64(3), int64(2), object(2)\n",
      "memory usage: 19.2+ MB\n"
     ]
    },
    {
     "data": {
      "text/plain": [
       "Customer ID            int64\n",
       "Gender                object\n",
       "Age                    int64\n",
       "Income (USD/Month)     int64\n",
       "dtype: object"
      ]
     },
     "execution_count": 4,
     "metadata": {},
     "output_type": "execute_result"
    }
   ],
   "source": [
    "# Check if there is lost values and the dimensions of the data set\n",
    "df_cab.info()\n",
    "df_c_id.dtypes"
   ]
  },
  {
   "cell_type": "code",
   "execution_count": 5,
   "id": "57e12b93",
   "metadata": {},
   "outputs": [
    {
     "data": {
      "text/html": [
       "<div>\n",
       "<style scoped>\n",
       "    .dataframe tbody tr th:only-of-type {\n",
       "        vertical-align: middle;\n",
       "    }\n",
       "\n",
       "    .dataframe tbody tr th {\n",
       "        vertical-align: top;\n",
       "    }\n",
       "\n",
       "    .dataframe thead th {\n",
       "        text-align: right;\n",
       "    }\n",
       "</style>\n",
       "<table border=\"1\" class=\"dataframe\">\n",
       "  <thead>\n",
       "    <tr style=\"text-align: right;\">\n",
       "      <th></th>\n",
       "      <th>City</th>\n",
       "      <th>Population</th>\n",
       "      <th>Users</th>\n",
       "    </tr>\n",
       "  </thead>\n",
       "  <tbody>\n",
       "    <tr>\n",
       "      <th>0</th>\n",
       "      <td>NEW YORK NY</td>\n",
       "      <td>8,405,837</td>\n",
       "      <td>302,149</td>\n",
       "    </tr>\n",
       "    <tr>\n",
       "      <th>1</th>\n",
       "      <td>CHICAGO IL</td>\n",
       "      <td>1,955,130</td>\n",
       "      <td>164,468</td>\n",
       "    </tr>\n",
       "    <tr>\n",
       "      <th>2</th>\n",
       "      <td>LOS ANGELES CA</td>\n",
       "      <td>1,595,037</td>\n",
       "      <td>144,132</td>\n",
       "    </tr>\n",
       "    <tr>\n",
       "      <th>3</th>\n",
       "      <td>MIAMI FL</td>\n",
       "      <td>1,339,155</td>\n",
       "      <td>17,675</td>\n",
       "    </tr>\n",
       "    <tr>\n",
       "      <th>4</th>\n",
       "      <td>SILICON VALLEY</td>\n",
       "      <td>1,177,609</td>\n",
       "      <td>27,247</td>\n",
       "    </tr>\n",
       "  </tbody>\n",
       "</table>\n",
       "</div>"
      ],
      "text/plain": [
       "             City   Population      Users\n",
       "0     NEW YORK NY   8,405,837    302,149 \n",
       "1      CHICAGO IL   1,955,130    164,468 \n",
       "2  LOS ANGELES CA   1,595,037    144,132 \n",
       "3        MIAMI FL   1,339,155     17,675 \n",
       "4  SILICON VALLEY   1,177,609     27,247 "
      ]
     },
     "execution_count": 5,
     "metadata": {},
     "output_type": "execute_result"
    }
   ],
   "source": [
    "df_city.head()"
   ]
  },
  {
   "cell_type": "code",
   "execution_count": 6,
   "id": "6e80b883",
   "metadata": {},
   "outputs": [
    {
     "name": "stdout",
     "output_type": "stream",
     "text": [
      "<class 'pandas.core.frame.DataFrame'>\n",
      "RangeIndex: 20 entries, 0 to 19\n",
      "Data columns (total 3 columns):\n",
      " #   Column      Non-Null Count  Dtype \n",
      "---  ------      --------------  ----- \n",
      " 0   City        20 non-null     object\n",
      " 1   Population  20 non-null     object\n",
      " 2   Users       20 non-null     object\n",
      "dtypes: object(3)\n",
      "memory usage: 608.0+ bytes\n"
     ]
    }
   ],
   "source": [
    "df_city.info()"
   ]
  },
  {
   "cell_type": "code",
   "execution_count": 7,
   "id": "aa2b428e",
   "metadata": {},
   "outputs": [
    {
     "data": {
      "text/html": [
       "<div>\n",
       "<style scoped>\n",
       "    .dataframe tbody tr th:only-of-type {\n",
       "        vertical-align: middle;\n",
       "    }\n",
       "\n",
       "    .dataframe tbody tr th {\n",
       "        vertical-align: top;\n",
       "    }\n",
       "\n",
       "    .dataframe thead th {\n",
       "        text-align: right;\n",
       "    }\n",
       "</style>\n",
       "<table border=\"1\" class=\"dataframe\">\n",
       "  <thead>\n",
       "    <tr style=\"text-align: right;\">\n",
       "      <th></th>\n",
       "      <th>Customer ID</th>\n",
       "      <th>Gender</th>\n",
       "      <th>Age</th>\n",
       "      <th>Income (USD/Month)</th>\n",
       "    </tr>\n",
       "  </thead>\n",
       "  <tbody>\n",
       "    <tr>\n",
       "      <th>0</th>\n",
       "      <td>29290</td>\n",
       "      <td>Male</td>\n",
       "      <td>28</td>\n",
       "      <td>10813</td>\n",
       "    </tr>\n",
       "    <tr>\n",
       "      <th>1</th>\n",
       "      <td>27703</td>\n",
       "      <td>Male</td>\n",
       "      <td>27</td>\n",
       "      <td>9237</td>\n",
       "    </tr>\n",
       "    <tr>\n",
       "      <th>2</th>\n",
       "      <td>28712</td>\n",
       "      <td>Male</td>\n",
       "      <td>53</td>\n",
       "      <td>11242</td>\n",
       "    </tr>\n",
       "    <tr>\n",
       "      <th>3</th>\n",
       "      <td>28020</td>\n",
       "      <td>Male</td>\n",
       "      <td>23</td>\n",
       "      <td>23327</td>\n",
       "    </tr>\n",
       "    <tr>\n",
       "      <th>4</th>\n",
       "      <td>27182</td>\n",
       "      <td>Male</td>\n",
       "      <td>33</td>\n",
       "      <td>8536</td>\n",
       "    </tr>\n",
       "  </tbody>\n",
       "</table>\n",
       "</div>"
      ],
      "text/plain": [
       "   Customer ID Gender  Age  Income (USD/Month)\n",
       "0        29290   Male   28               10813\n",
       "1        27703   Male   27                9237\n",
       "2        28712   Male   53               11242\n",
       "3        28020   Male   23               23327\n",
       "4        27182   Male   33                8536"
      ]
     },
     "execution_count": 7,
     "metadata": {},
     "output_type": "execute_result"
    }
   ],
   "source": [
    "df_c_id.head()"
   ]
  },
  {
   "cell_type": "code",
   "execution_count": 8,
   "id": "9ba9a927",
   "metadata": {},
   "outputs": [
    {
     "name": "stdout",
     "output_type": "stream",
     "text": [
      "<class 'pandas.core.frame.DataFrame'>\n",
      "RangeIndex: 49171 entries, 0 to 49170\n",
      "Data columns (total 4 columns):\n",
      " #   Column              Non-Null Count  Dtype \n",
      "---  ------              --------------  ----- \n",
      " 0   Customer ID         49171 non-null  int64 \n",
      " 1   Gender              49171 non-null  object\n",
      " 2   Age                 49171 non-null  int64 \n",
      " 3   Income (USD/Month)  49171 non-null  int64 \n",
      "dtypes: int64(3), object(1)\n",
      "memory usage: 1.5+ MB\n"
     ]
    }
   ],
   "source": [
    "df_c_id.info()"
   ]
  },
  {
   "cell_type": "code",
   "execution_count": 9,
   "id": "a907fc34",
   "metadata": {},
   "outputs": [
    {
     "data": {
      "text/html": [
       "<div>\n",
       "<style scoped>\n",
       "    .dataframe tbody tr th:only-of-type {\n",
       "        vertical-align: middle;\n",
       "    }\n",
       "\n",
       "    .dataframe tbody tr th {\n",
       "        vertical-align: top;\n",
       "    }\n",
       "\n",
       "    .dataframe thead th {\n",
       "        text-align: right;\n",
       "    }\n",
       "</style>\n",
       "<table border=\"1\" class=\"dataframe\">\n",
       "  <thead>\n",
       "    <tr style=\"text-align: right;\">\n",
       "      <th></th>\n",
       "      <th>Transaction ID</th>\n",
       "      <th>Customer ID</th>\n",
       "      <th>Payment_Mode</th>\n",
       "    </tr>\n",
       "  </thead>\n",
       "  <tbody>\n",
       "    <tr>\n",
       "      <th>0</th>\n",
       "      <td>10000011</td>\n",
       "      <td>29290</td>\n",
       "      <td>Card</td>\n",
       "    </tr>\n",
       "    <tr>\n",
       "      <th>1</th>\n",
       "      <td>10000012</td>\n",
       "      <td>27703</td>\n",
       "      <td>Card</td>\n",
       "    </tr>\n",
       "    <tr>\n",
       "      <th>2</th>\n",
       "      <td>10000013</td>\n",
       "      <td>28712</td>\n",
       "      <td>Cash</td>\n",
       "    </tr>\n",
       "    <tr>\n",
       "      <th>3</th>\n",
       "      <td>10000014</td>\n",
       "      <td>28020</td>\n",
       "      <td>Cash</td>\n",
       "    </tr>\n",
       "    <tr>\n",
       "      <th>4</th>\n",
       "      <td>10000015</td>\n",
       "      <td>27182</td>\n",
       "      <td>Card</td>\n",
       "    </tr>\n",
       "  </tbody>\n",
       "</table>\n",
       "</div>"
      ],
      "text/plain": [
       "   Transaction ID  Customer ID Payment_Mode\n",
       "0        10000011        29290         Card\n",
       "1        10000012        27703         Card\n",
       "2        10000013        28712         Cash\n",
       "3        10000014        28020         Cash\n",
       "4        10000015        27182         Card"
      ]
     },
     "execution_count": 9,
     "metadata": {},
     "output_type": "execute_result"
    }
   ],
   "source": [
    "df_t_id.head()"
   ]
  },
  {
   "cell_type": "code",
   "execution_count": 10,
   "id": "1d057f10",
   "metadata": {},
   "outputs": [
    {
     "name": "stdout",
     "output_type": "stream",
     "text": [
      "<class 'pandas.core.frame.DataFrame'>\n",
      "RangeIndex: 440098 entries, 0 to 440097\n",
      "Data columns (total 3 columns):\n",
      " #   Column          Non-Null Count   Dtype \n",
      "---  ------          --------------   ----- \n",
      " 0   Transaction ID  440098 non-null  int64 \n",
      " 1   Customer ID     440098 non-null  int64 \n",
      " 2   Payment_Mode    440098 non-null  object\n",
      "dtypes: int64(2), object(1)\n",
      "memory usage: 10.1+ MB\n"
     ]
    }
   ],
   "source": [
    "df_t_id.info()"
   ]
  },
  {
   "cell_type": "markdown",
   "id": "ff067aa6",
   "metadata": {},
   "source": [
    "As can be seen, there are 4 sets of data. They are described a little better in the following:\n",
    "* **df_cab(source file \"Cab_Data.csv \")**: is the main dataset containing the information about trips. It has 359392 entries(none null). It consists of 7 columns:\n",
    "    + Transaction ID:      int64\n",
    "    + Date of Travel:      int64\n",
    "    + Company:            object\n",
    "    + City:               object\n",
    "    + KM Travelled:      float64\n",
    "    + Price Charged:     float64\n",
    "    + Cost of Trip:      float64\n",
    "    \n",
    "    \n",
    "* **df_city(source file \"City.csv \")**: this dataframe has the information about the cities where the trips take place. It has 20 entries(none null). It consists of 3 columns:\n",
    "    + City: object\n",
    "    + Population: object\n",
    "    + Users: object\n",
    "    \n",
    "    \n",
    "* **df_c_id(source file \"Customer_ID.csv \")**: this dataframe contains information on each of the two companies' customers. It has 49171  entries(none null). It consists of 4 columns:\n",
    "    + Customer ID: int64\t\n",
    "    + Gender: object\n",
    "    + Age: int64\t\n",
    "    + Income (USD/Month): int64\t\n",
    "    \n",
    "    \n",
    "* **df_t_id(source file \"Transaction_ID.csv \")**: this dataframe contains information on every single transaction that has been made. It has 440098 entries(none null). It consists of 3 columns:\n",
    "    + Transaction ID: int64\t\t\n",
    "    + Customer ID: int64\t\t\n",
    "    + Payment_Mode: object \n"
   ]
  },
  {
   "attachments": {
    "relational_diagram.drawio.png": {
     "image/png": "[encoded data removed]"
    }
   },
   "cell_type": "markdown",
   "id": "c19fc362",
   "metadata": {},
   "source": [
    "The following graph shows the relationship between the attributes of the 4 dataframes.\n",
    "\n",
    "![relational_diagram.drawio.png](attachment:relational_diagram.drawio.png)"
   ]
  },
  {
   "cell_type": "markdown",
   "id": "6f7210b8",
   "metadata": {},
   "source": [
    "From the graph it can be seen that: \n",
    "* the table \"df_t_id\" contains information about the transactions in \"df_cab\". \n",
    "* the table \"df_city\" contains information about the cities where trips are made in \"df_cab\". \n",
    "* the table \"df_c_id\" has information about the customers making transactions in df_t_id. \n",
    "* the table \"df_c_id\" has information about the customers making transactions in \"df_t_id\"."
   ]
  },
  {
   "cell_type": "markdown",
   "id": "992f765a",
   "metadata": {},
   "source": [
    "Spaces will be replaced by underscores and all attribute names will be changed to lower case to make it easier to work with."
   ]
  },
  {
   "cell_type": "code",
   "execution_count": 11,
   "id": "e6f21b14",
   "metadata": {},
   "outputs": [],
   "source": [
    "df_cab.columns = df_cab.columns.str.replace(' ', '_').str.lower()\n",
    "df_city.columns = df_city.columns.str.replace(' ', '_').str.lower()\n",
    "df_c_id.columns = df_c_id.columns.str.replace(' ', '_').str.lower()\n",
    "df_t_id.columns = df_t_id.columns.str.replace(' ', '_').str.lower()"
   ]
  },
  {
   "cell_type": "markdown",
   "id": "d66e50de",
   "metadata": {},
   "source": [
    "Let's analyse the variables of each of the dataframes that should be modified.\n",
    "\n",
    "* In df_cab, the variable \"date_of_travel\" is in integer format. It will be transformed to date format:"
   ]
  },
  {
   "cell_type": "code",
   "execution_count": 12,
   "id": "f513c5f0",
   "metadata": {
    "scrolled": true
   },
   "outputs": [
    {
     "data": {
      "text/plain": [
       "0   2016-01-08\n",
       "1   2016-01-06\n",
       "2   2016-01-02\n",
       "3   2016-01-07\n",
       "4   2016-01-03\n",
       "Name: date_of_travel, dtype: datetime64[ns]"
      ]
     },
     "execution_count": 12,
     "metadata": {},
     "output_type": "execute_result"
    }
   ],
   "source": [
    "df_cab['date_of_travel'] = pd.to_datetime(df_cab['date_of_travel'],unit = 'D',origin = '1899-12-30')\n",
    "df_cab['date_of_travel'].head()"
   ]
  },
  {
   "cell_type": "markdown",
   "id": "3846ec3c",
   "metadata": {},
   "source": [
    "* In df_city, the variables \"population\" and \"users\" are to be transformed to integer type:"
   ]
  },
  {
   "cell_type": "code",
   "execution_count": 13,
   "id": "c4e56c46",
   "metadata": {},
   "outputs": [
    {
     "data": {
      "text/html": [
       "<div>\n",
       "<style scoped>\n",
       "    .dataframe tbody tr th:only-of-type {\n",
       "        vertical-align: middle;\n",
       "    }\n",
       "\n",
       "    .dataframe tbody tr th {\n",
       "        vertical-align: top;\n",
       "    }\n",
       "\n",
       "    .dataframe thead th {\n",
       "        text-align: right;\n",
       "    }\n",
       "</style>\n",
       "<table border=\"1\" class=\"dataframe\">\n",
       "  <thead>\n",
       "    <tr style=\"text-align: right;\">\n",
       "      <th></th>\n",
       "      <th>city</th>\n",
       "      <th>population</th>\n",
       "      <th>users</th>\n",
       "    </tr>\n",
       "  </thead>\n",
       "  <tbody>\n",
       "    <tr>\n",
       "      <th>0</th>\n",
       "      <td>NEW YORK NY</td>\n",
       "      <td>8405837</td>\n",
       "      <td>302149</td>\n",
       "    </tr>\n",
       "    <tr>\n",
       "      <th>1</th>\n",
       "      <td>CHICAGO IL</td>\n",
       "      <td>1955130</td>\n",
       "      <td>164468</td>\n",
       "    </tr>\n",
       "    <tr>\n",
       "      <th>2</th>\n",
       "      <td>LOS ANGELES CA</td>\n",
       "      <td>1595037</td>\n",
       "      <td>144132</td>\n",
       "    </tr>\n",
       "    <tr>\n",
       "      <th>3</th>\n",
       "      <td>MIAMI FL</td>\n",
       "      <td>1339155</td>\n",
       "      <td>17675</td>\n",
       "    </tr>\n",
       "    <tr>\n",
       "      <th>4</th>\n",
       "      <td>SILICON VALLEY</td>\n",
       "      <td>1177609</td>\n",
       "      <td>27247</td>\n",
       "    </tr>\n",
       "  </tbody>\n",
       "</table>\n",
       "</div>"
      ],
      "text/plain": [
       "             city population     users\n",
       "0     NEW YORK NY   8405837    302149 \n",
       "1      CHICAGO IL   1955130    164468 \n",
       "2  LOS ANGELES CA   1595037    144132 \n",
       "3        MIAMI FL   1339155     17675 \n",
       "4  SILICON VALLEY   1177609     27247 "
      ]
     },
     "execution_count": 13,
     "metadata": {},
     "output_type": "execute_result"
    }
   ],
   "source": [
    "df_city[\"population\"] = df_city[\"population\"].apply(lambda x: x.replace(',', ''))\n",
    "df_city[\"population\"].apply(lambda x: int(x))\n",
    "df_city[\"users\"] = df_city[\"users\"].apply(lambda x: x.replace(',', ''))\n",
    "df_city[\"users\"].apply(lambda x: int(x))\n",
    "\n",
    "df_city.head()\n"
   ]
  },
  {
   "cell_type": "markdown",
   "id": "0dfd065f",
   "metadata": {},
   "source": [
    "Some variables will be created that may be useful in determining whether it is viable to make an investment.\n",
    "\n",
    "**trip profit**: the difference between the price paid and the cost of the trip."
   ]
  },
  {
   "cell_type": "code",
   "execution_count": 14,
   "id": "82bb184a",
   "metadata": {},
   "outputs": [],
   "source": [
    "df_cab[\"trip_profit\"] = df_cab[\"price_charged\"]-df_cab[\"cost_of_trip\"]"
   ]
  },
  {
   "cell_type": "markdown",
   "id": "1ed7fc9c",
   "metadata": {},
   "source": [
    "**profitkm**: profit per kiometre"
   ]
  },
  {
   "cell_type": "code",
   "execution_count": 15,
   "id": "b05606ef",
   "metadata": {},
   "outputs": [],
   "source": [
    "df_cab[\"profit_km\"] = df_cab[\"trip_profit\"]/df_cab[\"km_travelled\"]"
   ]
  },
  {
   "cell_type": "markdown",
   "id": "cfbedb84",
   "metadata": {},
   "source": [
    "The 4 data frames will be joined together to create a master data frame to make it easier to work with."
   ]
  },
  {
   "cell_type": "code",
   "execution_count": 16,
   "id": "0f33df2f",
   "metadata": {},
   "outputs": [
    {
     "name": "stdout",
     "output_type": "stream",
     "text": [
      "(359393, 11)\n",
      "(440098, 6)\n",
      "(440099, 16)\n",
      "(440099, 16)\n"
     ]
    },
    {
     "data": {
      "text/html": [
       "<div>\n",
       "<style scoped>\n",
       "    .dataframe tbody tr th:only-of-type {\n",
       "        vertical-align: middle;\n",
       "    }\n",
       "\n",
       "    .dataframe tbody tr th {\n",
       "        vertical-align: top;\n",
       "    }\n",
       "\n",
       "    .dataframe thead th {\n",
       "        text-align: right;\n",
       "    }\n",
       "</style>\n",
       "<table border=\"1\" class=\"dataframe\">\n",
       "  <thead>\n",
       "    <tr style=\"text-align: right;\">\n",
       "      <th></th>\n",
       "      <th>city</th>\n",
       "      <th>population</th>\n",
       "      <th>users</th>\n",
       "      <th>transaction_id</th>\n",
       "      <th>date_of_travel</th>\n",
       "      <th>company</th>\n",
       "      <th>km_travelled</th>\n",
       "      <th>price_charged</th>\n",
       "      <th>cost_of_trip</th>\n",
       "      <th>trip_profit</th>\n",
       "      <th>profit_km</th>\n",
       "      <th>customer_id</th>\n",
       "      <th>payment_mode</th>\n",
       "      <th>gender</th>\n",
       "      <th>age</th>\n",
       "      <th>income_(usd/month)</th>\n",
       "    </tr>\n",
       "  </thead>\n",
       "  <tbody>\n",
       "    <tr>\n",
       "      <th>0</th>\n",
       "      <td>NEW YORK NY</td>\n",
       "      <td>8405837</td>\n",
       "      <td>302149</td>\n",
       "      <td>10000139.0</td>\n",
       "      <td>2016-01-08</td>\n",
       "      <td>Pink Cab</td>\n",
       "      <td>17.85</td>\n",
       "      <td>242.90</td>\n",
       "      <td>198.135</td>\n",
       "      <td>44.765</td>\n",
       "      <td>2.507843</td>\n",
       "      <td>2416.0</td>\n",
       "      <td>Cash</td>\n",
       "      <td>Male</td>\n",
       "      <td>28.0</td>\n",
       "      <td>21399.0</td>\n",
       "    </tr>\n",
       "    <tr>\n",
       "      <th>1</th>\n",
       "      <td>NEW YORK NY</td>\n",
       "      <td>8405837</td>\n",
       "      <td>302149</td>\n",
       "      <td>10000140.0</td>\n",
       "      <td>2016-01-09</td>\n",
       "      <td>Pink Cab</td>\n",
       "      <td>25.30</td>\n",
       "      <td>407.21</td>\n",
       "      <td>255.530</td>\n",
       "      <td>151.680</td>\n",
       "      <td>5.995257</td>\n",
       "      <td>2060.0</td>\n",
       "      <td>Card</td>\n",
       "      <td>Male</td>\n",
       "      <td>18.0</td>\n",
       "      <td>8149.0</td>\n",
       "    </tr>\n",
       "    <tr>\n",
       "      <th>2</th>\n",
       "      <td>NEW YORK NY</td>\n",
       "      <td>8405837</td>\n",
       "      <td>302149</td>\n",
       "      <td>10000141.0</td>\n",
       "      <td>2016-01-06</td>\n",
       "      <td>Pink Cab</td>\n",
       "      <td>16.32</td>\n",
       "      <td>236.41</td>\n",
       "      <td>186.048</td>\n",
       "      <td>50.362</td>\n",
       "      <td>3.085907</td>\n",
       "      <td>1451.0</td>\n",
       "      <td>Card</td>\n",
       "      <td>Male</td>\n",
       "      <td>35.0</td>\n",
       "      <td>23989.0</td>\n",
       "    </tr>\n",
       "    <tr>\n",
       "      <th>3</th>\n",
       "      <td>NEW YORK NY</td>\n",
       "      <td>8405837</td>\n",
       "      <td>302149</td>\n",
       "      <td>10000142.0</td>\n",
       "      <td>2016-01-04</td>\n",
       "      <td>Pink Cab</td>\n",
       "      <td>12.43</td>\n",
       "      <td>194.61</td>\n",
       "      <td>144.188</td>\n",
       "      <td>50.422</td>\n",
       "      <td>4.056476</td>\n",
       "      <td>1609.0</td>\n",
       "      <td>Card</td>\n",
       "      <td>Male</td>\n",
       "      <td>30.0</td>\n",
       "      <td>23036.0</td>\n",
       "    </tr>\n",
       "    <tr>\n",
       "      <th>4</th>\n",
       "      <td>NEW YORK NY</td>\n",
       "      <td>8405837</td>\n",
       "      <td>302149</td>\n",
       "      <td>10000143.0</td>\n",
       "      <td>2016-01-09</td>\n",
       "      <td>Pink Cab</td>\n",
       "      <td>29.70</td>\n",
       "      <td>434.57</td>\n",
       "      <td>350.460</td>\n",
       "      <td>84.110</td>\n",
       "      <td>2.831987</td>\n",
       "      <td>2927.0</td>\n",
       "      <td>Cash</td>\n",
       "      <td>Male</td>\n",
       "      <td>33.0</td>\n",
       "      <td>14520.0</td>\n",
       "    </tr>\n",
       "  </tbody>\n",
       "</table>\n",
       "</div>"
      ],
      "text/plain": [
       "          city population     users  transaction_id date_of_travel   company  \\\n",
       "0  NEW YORK NY   8405837    302149       10000139.0     2016-01-08  Pink Cab   \n",
       "1  NEW YORK NY   8405837    302149       10000140.0     2016-01-09  Pink Cab   \n",
       "2  NEW YORK NY   8405837    302149       10000141.0     2016-01-06  Pink Cab   \n",
       "3  NEW YORK NY   8405837    302149       10000142.0     2016-01-04  Pink Cab   \n",
       "4  NEW YORK NY   8405837    302149       10000143.0     2016-01-09  Pink Cab   \n",
       "\n",
       "   km_travelled  price_charged  cost_of_trip  trip_profit  profit_km  \\\n",
       "0         17.85         242.90       198.135       44.765   2.507843   \n",
       "1         25.30         407.21       255.530      151.680   5.995257   \n",
       "2         16.32         236.41       186.048       50.362   3.085907   \n",
       "3         12.43         194.61       144.188       50.422   4.056476   \n",
       "4         29.70         434.57       350.460       84.110   2.831987   \n",
       "\n",
       "   customer_id payment_mode gender   age  income_(usd/month)  \n",
       "0       2416.0         Cash   Male  28.0             21399.0  \n",
       "1       2060.0         Card   Male  18.0              8149.0  \n",
       "2       1451.0         Card   Male  35.0             23989.0  \n",
       "3       1609.0         Card   Male  30.0             23036.0  \n",
       "4       2927.0         Cash   Male  33.0             14520.0  "
      ]
     },
     "execution_count": 16,
     "metadata": {},
     "output_type": "execute_result"
    }
   ],
   "source": [
    "df_merge_1 = df_city.merge(df_cab, on='city', how='outer')\n",
    "print(df_merge_1.shape)\n",
    "df_merge_2 = df_t_id.merge(df_c_id, on='customer_id', how='outer')\n",
    "print(df_merge_2.shape)\n",
    "df_master = df_merge_1.merge(df_merge_2, on='transaction_id', how='outer')\n",
    "print(df_master.shape)\n",
    "df_master = df_master.drop_duplicates(keep=\"first\")\n",
    "df_master = df_master.dropna(axis=1, how='all')\n",
    "print(df_master.shape)\n",
    "df_master.head()"
   ]
  },
  {
   "cell_type": "code",
   "execution_count": 17,
   "id": "6976d249",
   "metadata": {},
   "outputs": [
    {
     "name": "stdout",
     "output_type": "stream",
     "text": [
      "<class 'pandas.core.frame.DataFrame'>\n",
      "Int64Index: 440099 entries, 0 to 440098\n",
      "Data columns (total 16 columns):\n",
      " #   Column              Non-Null Count   Dtype         \n",
      "---  ------              --------------   -----         \n",
      " 0   city                359393 non-null  object        \n",
      " 1   population          359393 non-null  object        \n",
      " 2   users               359393 non-null  object        \n",
      " 3   transaction_id      440098 non-null  float64       \n",
      " 4   date_of_travel      359392 non-null  datetime64[ns]\n",
      " 5   company             359392 non-null  object        \n",
      " 6   km_travelled        359392 non-null  float64       \n",
      " 7   price_charged       359392 non-null  float64       \n",
      " 8   cost_of_trip        359392 non-null  float64       \n",
      " 9   trip_profit         359392 non-null  float64       \n",
      " 10  profit_km           359392 non-null  float64       \n",
      " 11  customer_id         440098 non-null  float64       \n",
      " 12  payment_mode        440098 non-null  object        \n",
      " 13  gender              440098 non-null  object        \n",
      " 14  age                 440098 non-null  float64       \n",
      " 15  income_(usd/month)  440098 non-null  float64       \n",
      "dtypes: datetime64[ns](1), float64(9), object(6)\n",
      "memory usage: 57.1+ MB\n"
     ]
    }
   ],
   "source": [
    "df_master.info()"
   ]
  },
  {
   "cell_type": "markdown",
   "id": "90f2ec6c",
   "metadata": {},
   "source": [
    "A more exhaustive analysis of the master dataframe will be carried out."
   ]
  },
  {
   "cell_type": "code",
   "execution_count": 18,
   "id": "e51302ad",
   "metadata": {},
   "outputs": [
    {
     "name": "stdout",
     "output_type": "stream",
     "text": [
      "<class 'pandas.core.frame.DataFrame'>\n",
      "Int64Index: 359393 entries, 0 to 359392\n",
      "Data columns (total 16 columns):\n",
      " #   Column              Non-Null Count   Dtype         \n",
      "---  ------              --------------   -----         \n",
      " 0   city                359393 non-null  object        \n",
      " 1   population          359393 non-null  object        \n",
      " 2   users               359393 non-null  object        \n",
      " 3   transaction_id      359392 non-null  float64       \n",
      " 4   date_of_travel      359392 non-null  datetime64[ns]\n",
      " 5   company             359392 non-null  object        \n",
      " 6   km_travelled        359392 non-null  float64       \n",
      " 7   price_charged       359392 non-null  float64       \n",
      " 8   cost_of_trip        359392 non-null  float64       \n",
      " 9   trip_profit         359392 non-null  float64       \n",
      " 10  profit_km           359392 non-null  float64       \n",
      " 11  customer_id         359392 non-null  float64       \n",
      " 12  payment_mode        359392 non-null  object        \n",
      " 13  gender              359392 non-null  object        \n",
      " 14  age                 359392 non-null  float64       \n",
      " 15  income_(usd/month)  359392 non-null  float64       \n",
      "dtypes: datetime64[ns](1), float64(9), object(6)\n",
      "memory usage: 46.6+ MB\n"
     ]
    }
   ],
   "source": [
    "df_master.dropna(subset=['users'], inplace=True)\n",
    "df_master.info()"
   ]
  },
  {
   "cell_type": "code",
   "execution_count": 19,
   "id": "576a0e93",
   "metadata": {},
   "outputs": [
    {
     "data": {
      "text/html": [
       "<div>\n",
       "<style scoped>\n",
       "    .dataframe tbody tr th:only-of-type {\n",
       "        vertical-align: middle;\n",
       "    }\n",
       "\n",
       "    .dataframe tbody tr th {\n",
       "        vertical-align: top;\n",
       "    }\n",
       "\n",
       "    .dataframe thead th {\n",
       "        text-align: right;\n",
       "    }\n",
       "</style>\n",
       "<table border=\"1\" class=\"dataframe\">\n",
       "  <thead>\n",
       "    <tr style=\"text-align: right;\">\n",
       "      <th></th>\n",
       "      <th>transaction_id</th>\n",
       "      <th>km_travelled</th>\n",
       "      <th>price_charged</th>\n",
       "      <th>cost_of_trip</th>\n",
       "      <th>trip_profit</th>\n",
       "      <th>profit_km</th>\n",
       "      <th>customer_id</th>\n",
       "      <th>age</th>\n",
       "      <th>income_(usd/month)</th>\n",
       "    </tr>\n",
       "  </thead>\n",
       "  <tbody>\n",
       "    <tr>\n",
       "      <th>count</th>\n",
       "      <td>3.593920e+05</td>\n",
       "      <td>359392.000000</td>\n",
       "      <td>359392.000000</td>\n",
       "      <td>359392.000000</td>\n",
       "      <td>359392.000000</td>\n",
       "      <td>359392.000000</td>\n",
       "      <td>359392.000000</td>\n",
       "      <td>359392.000000</td>\n",
       "      <td>359392.000000</td>\n",
       "    </tr>\n",
       "    <tr>\n",
       "      <th>mean</th>\n",
       "      <td>1.022076e+07</td>\n",
       "      <td>22.567254</td>\n",
       "      <td>423.443311</td>\n",
       "      <td>286.190113</td>\n",
       "      <td>137.253198</td>\n",
       "      <td>6.083579</td>\n",
       "      <td>19191.652115</td>\n",
       "      <td>35.336705</td>\n",
       "      <td>15048.822937</td>\n",
       "    </tr>\n",
       "    <tr>\n",
       "      <th>std</th>\n",
       "      <td>1.268058e+05</td>\n",
       "      <td>12.233526</td>\n",
       "      <td>274.378911</td>\n",
       "      <td>157.993661</td>\n",
       "      <td>160.311840</td>\n",
       "      <td>5.543493</td>\n",
       "      <td>21012.412463</td>\n",
       "      <td>12.594234</td>\n",
       "      <td>7969.409482</td>\n",
       "    </tr>\n",
       "    <tr>\n",
       "      <th>min</th>\n",
       "      <td>1.000001e+07</td>\n",
       "      <td>1.900000</td>\n",
       "      <td>15.600000</td>\n",
       "      <td>19.000000</td>\n",
       "      <td>-220.060000</td>\n",
       "      <td>-4.998235</td>\n",
       "      <td>1.000000</td>\n",
       "      <td>18.000000</td>\n",
       "      <td>2000.000000</td>\n",
       "    </tr>\n",
       "    <tr>\n",
       "      <th>25%</th>\n",
       "      <td>1.011081e+07</td>\n",
       "      <td>12.000000</td>\n",
       "      <td>206.437500</td>\n",
       "      <td>151.200000</td>\n",
       "      <td>28.012000</td>\n",
       "      <td>2.000385</td>\n",
       "      <td>2705.000000</td>\n",
       "      <td>25.000000</td>\n",
       "      <td>8424.000000</td>\n",
       "    </tr>\n",
       "    <tr>\n",
       "      <th>50%</th>\n",
       "      <td>1.022104e+07</td>\n",
       "      <td>22.440000</td>\n",
       "      <td>386.360000</td>\n",
       "      <td>282.480000</td>\n",
       "      <td>81.962000</td>\n",
       "      <td>4.466809</td>\n",
       "      <td>7459.000000</td>\n",
       "      <td>33.000000</td>\n",
       "      <td>14685.000000</td>\n",
       "    </tr>\n",
       "    <tr>\n",
       "      <th>75%</th>\n",
       "      <td>1.033094e+07</td>\n",
       "      <td>32.960000</td>\n",
       "      <td>583.660000</td>\n",
       "      <td>413.683200</td>\n",
       "      <td>190.030000</td>\n",
       "      <td>9.170006</td>\n",
       "      <td>36078.000000</td>\n",
       "      <td>42.000000</td>\n",
       "      <td>21035.000000</td>\n",
       "    </tr>\n",
       "    <tr>\n",
       "      <th>max</th>\n",
       "      <td>1.044011e+07</td>\n",
       "      <td>48.000000</td>\n",
       "      <td>2048.030000</td>\n",
       "      <td>691.200000</td>\n",
       "      <td>1463.966000</td>\n",
       "      <td>41.115556</td>\n",
       "      <td>60000.000000</td>\n",
       "      <td>65.000000</td>\n",
       "      <td>35000.000000</td>\n",
       "    </tr>\n",
       "  </tbody>\n",
       "</table>\n",
       "</div>"
      ],
      "text/plain": [
       "       transaction_id   km_travelled  price_charged   cost_of_trip  \\\n",
       "count    3.593920e+05  359392.000000  359392.000000  359392.000000   \n",
       "mean     1.022076e+07      22.567254     423.443311     286.190113   \n",
       "std      1.268058e+05      12.233526     274.378911     157.993661   \n",
       "min      1.000001e+07       1.900000      15.600000      19.000000   \n",
       "25%      1.011081e+07      12.000000     206.437500     151.200000   \n",
       "50%      1.022104e+07      22.440000     386.360000     282.480000   \n",
       "75%      1.033094e+07      32.960000     583.660000     413.683200   \n",
       "max      1.044011e+07      48.000000    2048.030000     691.200000   \n",
       "\n",
       "         trip_profit      profit_km    customer_id            age  \\\n",
       "count  359392.000000  359392.000000  359392.000000  359392.000000   \n",
       "mean      137.253198       6.083579   19191.652115      35.336705   \n",
       "std       160.311840       5.543493   21012.412463      12.594234   \n",
       "min      -220.060000      -4.998235       1.000000      18.000000   \n",
       "25%        28.012000       2.000385    2705.000000      25.000000   \n",
       "50%        81.962000       4.466809    7459.000000      33.000000   \n",
       "75%       190.030000       9.170006   36078.000000      42.000000   \n",
       "max      1463.966000      41.115556   60000.000000      65.000000   \n",
       "\n",
       "       income_(usd/month)  \n",
       "count       359392.000000  \n",
       "mean         15048.822937  \n",
       "std           7969.409482  \n",
       "min           2000.000000  \n",
       "25%           8424.000000  \n",
       "50%          14685.000000  \n",
       "75%          21035.000000  \n",
       "max          35000.000000  "
      ]
     },
     "execution_count": 19,
     "metadata": {},
     "output_type": "execute_result"
    }
   ],
   "source": [
    "df_master.describe()"
   ]
  },
  {
   "cell_type": "markdown",
   "id": "8d87c622",
   "metadata": {},
   "source": [
    "\n",
    "###### Cases per company"
   ]
  },
  {
   "cell_type": "code",
   "execution_count": 20,
   "id": "1fae751a",
   "metadata": {},
   "outputs": [
    {
     "data": {
      "text/plain": [
       "[Text(0, 0, '84711'), Text(0, 0, '274681')]"
      ]
     },
     "execution_count": 20,
     "metadata": {},
     "output_type": "execute_result"
    },
    {
     "data": {
      "image/png": "[encoded data removed]",
      "text/plain": [
       "<Figure size 432x288 with 1 Axes>"
      ]
     },
     "metadata": {
      "needs_background": "light"
     },
     "output_type": "display_data"
    }
   ],
   "source": [
    "ax = sns.countplot(x=\"company\",palette=['pink', 'yellow'], data=df_master)\n",
    "ax.set_xlabel(\"Company\", fontsize = 12)\n",
    "ax.set_ylabel(\"Total trips\", fontsize = 12)\n",
    "ax.bar_label(ax.containers[0])"
   ]
  },
  {
   "cell_type": "code",
   "execution_count": 21,
   "id": "8afcf833",
   "metadata": {},
   "outputs": [
    {
     "name": "stdout",
     "output_type": "stream",
     "text": [
      "Yellow Cab    274681\n",
      "Pink Cab       84711\n",
      "Name: company, dtype: int64\n",
      "Percentage of pink cabs trips 0.236 %\n",
      "Percentage of yellow cabs trips 0.764 %\n"
     ]
    }
   ],
   "source": [
    "count_company = df_master['company'].value_counts()\n",
    "print(count_company)\n",
    "p_pink = count_company[1]/(count_company[0]+count_company[1])\n",
    "p_yellow = count_company[0]/(count_company[0]+count_company[1])\n",
    "print('Percentage of pink cabs trips', round(p_pink,3), '%')\n",
    "print('Percentage of yellow cabs trips', round(p_yellow,3), '%')"
   ]
  },
  {
   "cell_type": "markdown",
   "id": "27e535f6",
   "metadata": {},
   "source": [
    "###### Users by sex and age range"
   ]
  },
  {
   "cell_type": "code",
   "execution_count": 22,
   "id": "9d6dcc57",
   "metadata": {},
   "outputs": [
    {
     "data": {
      "text/plain": [
       "[Text(0, 0, '59782'), Text(0, 0, '85363'), Text(0, 0, '8335')]"
      ]
     },
     "execution_count": 22,
     "metadata": {},
     "output_type": "execute_result"
    },
    {
     "data": {
      "image/png": "[encoded data removed]",
      "text/plain": [
       "<Figure size 432x288 with 1 Axes>"
      ]
     },
     "metadata": {
      "needs_background": "light"
     },
     "output_type": "display_data"
    }
   ],
   "source": [
    "def agecategories(age):\n",
    "    if age <30:\n",
    "        return \"Young\"\n",
    "    elif age <=60:\n",
    "        return \"Senior\"\n",
    "    else:\n",
    "        return \"Old\"\n",
    "\n",
    "df_master[\"age_range\"] = df_master[\"age\"].apply(agecategories)\n",
    "ax = sns.countplot(x=\"age_range\",hue =\"gender\", data=df_master)\n",
    "ax.set_xlabel(\"Age Range\", fontsize = 12)\n",
    "ax.set_ylabel(\"Total trips\", fontsize = 12)\n",
    "ax.bar_label(ax.containers[0] )\n",
    "ax.bar_label(ax.containers[1] )"
   ]
  },
  {
   "cell_type": "markdown",
   "id": "65614e3b",
   "metadata": {},
   "source": [
    "###### Average KM profit"
   ]
  },
  {
   "cell_type": "code",
   "execution_count": 23,
   "id": "92d1ec99",
   "metadata": {},
   "outputs": [
    {
     "name": "stdout",
     "output_type": "stream",
     "text": [
      "Km profit average of pink cabs trips 2.769907700396534\n",
      "Km profit average of yellow cabs trips 7.105507808353114\n"
     ]
    }
   ],
   "source": [
    "df_pink = df_master[df_master[\"company\"] == \"Pink Cab\"]\n",
    "df_yellow = df_master[df_master[\"company\"] != \"Pink Cab\"]\n",
    "pink_km_profit = df_pink[\"profit_km\"].mean()\n",
    "yellow_km_profit = df_yellow[\"profit_km\"].mean()\n",
    "print('Km profit average of pink cabs trips', pink_km_profit)\n",
    "print('Km profit average of yellow cabs trips', yellow_km_profit)"
   ]
  },
  {
   "cell_type": "markdown",
   "id": "d026f843",
   "metadata": {},
   "source": [
    "###### Users by salaries and gender"
   ]
  },
  {
   "cell_type": "code",
   "execution_count": 24,
   "id": "1046f859",
   "metadata": {},
   "outputs": [
    {
     "data": {
      "text/plain": [
       "[Text(0, 0, '117209'), Text(0, 0, '23625'), Text(0, 0, '12646')]"
      ]
     },
     "execution_count": 24,
     "metadata": {},
     "output_type": "execute_result"
    },
    {
     "data": {
      "image/png": "[encoded data removed]",
      "text/plain": [
       "<Figure size 432x288 with 1 Axes>"
      ]
     },
     "metadata": {
      "needs_background": "light"
     },
     "output_type": "display_data"
    }
   ],
   "source": [
    "def incomecategories(salary):\n",
    "    if salary <4000:\n",
    "        return \"Normal\"\n",
    "    elif salary <=8000:\n",
    "        return \"Medium\"\n",
    "    else:\n",
    "        return \"High\"\n",
    "\n",
    "df_master[\"salary_range\"] = df_master[\"income_(usd/month)\"].apply(incomecategories)\n",
    "ax = sns.countplot(x=\"salary_range\",hue =\"gender\", data=df_master)\n",
    "ax.set_xlabel(\"Salary Range\", fontsize = 12)\n",
    "ax.set_ylabel(\"Total trips\", fontsize = 12)\n",
    "ax.bar_label(ax.containers[0] )\n",
    "ax.bar_label(ax.containers[1] )"
   ]
  },
  {
   "cell_type": "markdown",
   "id": "2ea5dbd3",
   "metadata": {},
   "source": [
    "###### Users by salaries and companies"
   ]
  },
  {
   "cell_type": "code",
   "execution_count": 25,
   "id": "dc6d9ea9",
   "metadata": {},
   "outputs": [
    {
     "data": {
      "text/plain": [
       "[Text(0, 0, '210910'), Text(0, 0, '42004'), Text(0, 0, '21767')]"
      ]
     },
     "execution_count": 25,
     "metadata": {},
     "output_type": "execute_result"
    },
    {
     "data": {
      "image/png": "[encoded data removed]",
      "text/plain": [
       "<Figure size 432x288 with 1 Axes>"
      ]
     },
     "metadata": {
      "needs_background": "light"
     },
     "output_type": "display_data"
    }
   ],
   "source": [
    "ax1 = sns.countplot(x=\"salary_range\",hue =\"company\",palette=['pink', 'yellow'], data=df_master)\n",
    "ax1.set_xlabel(\"Salary Range\", fontsize = 12)\n",
    "ax1.set_ylabel(\"Total trips\", fontsize = 12)\n",
    "ax1.bar_label(ax1.containers[0] )\n",
    "ax1.bar_label(ax1.containers[1] )"
   ]
  },
  {
   "cell_type": "markdown",
   "id": "15f4a760",
   "metadata": {},
   "source": [
    "###### Trips per years and months"
   ]
  },
  {
   "cell_type": "code",
   "execution_count": 79,
   "id": "2e8516d4",
   "metadata": {},
   "outputs": [
    {
     "data": {
      "text/plain": [
       "[Text(0, 0, '82239'), Text(0, 0, '98189'), Text(0, 0, '94253')]"
      ]
     },
     "execution_count": 79,
     "metadata": {},
     "output_type": "execute_result"
    },
    {
     "data": {
      "image/png": "[encoded data removed]",
      "text/plain": [
       "<Figure size 432x288 with 1 Axes>"
      ]
     },
     "metadata": {
      "needs_background": "light"
     },
     "output_type": "display_data"
    }
   ],
   "source": [
    "df_master[\"year\"] = pd. DatetimeIndex(df_master['date_of_travel']).year\n",
    "df_master[\"month\"] = pd. DatetimeIndex(df_master['date_of_travel']).month\n",
    "df_master[\"year\"].apply(lambda x: str(x))\n",
    "df_master[\"month\"].apply(lambda x: str(x))\n",
    "\n",
    "ax1 = sns.countplot(x=\"year\", hue=\"company\",palette=['pink', 'yellow'], data=df_master)\n",
    "ax1.set_xlabel(\"Year\", fontsize = 12)\n",
    "ax1.set_ylabel(\"Total trips\", fontsize = 12)\n",
    "ax1.bar_label(ax1.containers[0] )\n",
    "ax1.bar_label(ax1.containers[1] )\n"
   ]
  },
  {
   "cell_type": "code",
   "execution_count": 80,
   "id": "28823d88",
   "metadata": {},
   "outputs": [
    {
     "data": {
      "text/plain": [
       "[Text(0, 0, '18117'),\n",
       " Text(0, 0, '14932'),\n",
       " Text(0, 0, '17423'),\n",
       " Text(0, 0, '17351'),\n",
       " Text(0, 0, '18741'),\n",
       " Text(0, 0, '18836'),\n",
       " Text(0, 0, '21086'),\n",
       " Text(0, 0, '23584'),\n",
       " Text(0, 0, '27201'),\n",
       " Text(0, 0, '30276'),\n",
       " Text(0, 0, '31695'),\n",
       " Text(0, 0, '35439')]"
      ]
     },
     "execution_count": 80,
     "metadata": {},
     "output_type": "execute_result"
    },
    {
     "data": {
      "image/png": "[encoded data removed]",
      "text/plain": [
       "<Figure size 432x288 with 1 Axes>"
      ]
     },
     "metadata": {
      "needs_background": "light"
     },
     "output_type": "display_data"
    }
   ],
   "source": [
    "ax1 = sns.countplot(x=\"month\", hue=\"company\",palette=['pink', 'yellow'], data=df_master)\n",
    "ax1.set_xlabel(\"Month\", fontsize = 12)\n",
    "ax1.set_ylabel(\"Total trips\", fontsize = 12)\n",
    "ax1.bar_label(ax1.containers[0])\n",
    "ax1.bar_label(ax1.containers[1])"
   ]
  },
  {
   "cell_type": "markdown",
   "id": "e5f97e63",
   "metadata": {},
   "source": [
    "##### Correlation between numerical variables"
   ]
  },
  {
   "cell_type": "code",
   "execution_count": 26,
   "id": "43f123d4",
   "metadata": {},
   "outputs": [
    {
     "data": {
      "text/html": [
       "<div>\n",
       "<style scoped>\n",
       "    .dataframe tbody tr th:only-of-type {\n",
       "        vertical-align: middle;\n",
       "    }\n",
       "\n",
       "    .dataframe tbody tr th {\n",
       "        vertical-align: top;\n",
       "    }\n",
       "\n",
       "    .dataframe thead th {\n",
       "        text-align: right;\n",
       "    }\n",
       "</style>\n",
       "<table border=\"1\" class=\"dataframe\">\n",
       "  <thead>\n",
       "    <tr style=\"text-align: right;\">\n",
       "      <th></th>\n",
       "      <th>transaction_id</th>\n",
       "      <th>km_travelled</th>\n",
       "      <th>price_charged</th>\n",
       "      <th>cost_of_trip</th>\n",
       "      <th>trip_profit</th>\n",
       "      <th>profit_km</th>\n",
       "      <th>customer_id</th>\n",
       "      <th>age</th>\n",
       "      <th>income_(usd/month)</th>\n",
       "    </tr>\n",
       "  </thead>\n",
       "  <tbody>\n",
       "    <tr>\n",
       "      <th>transaction_id</th>\n",
       "      <td>1.000000</td>\n",
       "      <td>-0.001429</td>\n",
       "      <td>-0.052902</td>\n",
       "      <td>-0.003462</td>\n",
       "      <td>-0.087130</td>\n",
       "      <td>-0.110524</td>\n",
       "      <td>-0.016912</td>\n",
       "      <td>-0.001267</td>\n",
       "      <td>-0.001570</td>\n",
       "    </tr>\n",
       "    <tr>\n",
       "      <th>km_travelled</th>\n",
       "      <td>-0.001429</td>\n",
       "      <td>1.000000</td>\n",
       "      <td>0.835753</td>\n",
       "      <td>0.981848</td>\n",
       "      <td>0.462768</td>\n",
       "      <td>-0.000538</td>\n",
       "      <td>0.000389</td>\n",
       "      <td>-0.000369</td>\n",
       "      <td>-0.000544</td>\n",
       "    </tr>\n",
       "    <tr>\n",
       "      <th>price_charged</th>\n",
       "      <td>-0.052902</td>\n",
       "      <td>0.835753</td>\n",
       "      <td>1.000000</td>\n",
       "      <td>0.859812</td>\n",
       "      <td>0.864154</td>\n",
       "      <td>0.473222</td>\n",
       "      <td>-0.177324</td>\n",
       "      <td>-0.003084</td>\n",
       "      <td>0.003228</td>\n",
       "    </tr>\n",
       "    <tr>\n",
       "      <th>cost_of_trip</th>\n",
       "      <td>-0.003462</td>\n",
       "      <td>0.981848</td>\n",
       "      <td>0.859812</td>\n",
       "      <td>1.000000</td>\n",
       "      <td>0.486056</td>\n",
       "      <td>0.031053</td>\n",
       "      <td>0.003077</td>\n",
       "      <td>-0.000189</td>\n",
       "      <td>-0.000633</td>\n",
       "    </tr>\n",
       "    <tr>\n",
       "      <th>trip_profit</th>\n",
       "      <td>-0.087130</td>\n",
       "      <td>0.462768</td>\n",
       "      <td>0.864154</td>\n",
       "      <td>0.486056</td>\n",
       "      <td>1.000000</td>\n",
       "      <td>0.779330</td>\n",
       "      <td>-0.306527</td>\n",
       "      <td>-0.005093</td>\n",
       "      <td>0.006148</td>\n",
       "    </tr>\n",
       "    <tr>\n",
       "      <th>profit_km</th>\n",
       "      <td>-0.110524</td>\n",
       "      <td>-0.000538</td>\n",
       "      <td>0.473222</td>\n",
       "      <td>0.031053</td>\n",
       "      <td>0.779330</td>\n",
       "      <td>1.000000</td>\n",
       "      <td>-0.394133</td>\n",
       "      <td>-0.006428</td>\n",
       "      <td>0.008159</td>\n",
       "    </tr>\n",
       "    <tr>\n",
       "      <th>customer_id</th>\n",
       "      <td>-0.016912</td>\n",
       "      <td>0.000389</td>\n",
       "      <td>-0.177324</td>\n",
       "      <td>0.003077</td>\n",
       "      <td>-0.306527</td>\n",
       "      <td>-0.394133</td>\n",
       "      <td>1.000000</td>\n",
       "      <td>-0.004735</td>\n",
       "      <td>-0.013608</td>\n",
       "    </tr>\n",
       "    <tr>\n",
       "      <th>age</th>\n",
       "      <td>-0.001267</td>\n",
       "      <td>-0.000369</td>\n",
       "      <td>-0.003084</td>\n",
       "      <td>-0.000189</td>\n",
       "      <td>-0.005093</td>\n",
       "      <td>-0.006428</td>\n",
       "      <td>-0.004735</td>\n",
       "      <td>1.000000</td>\n",
       "      <td>0.003907</td>\n",
       "    </tr>\n",
       "    <tr>\n",
       "      <th>income_(usd/month)</th>\n",
       "      <td>-0.001570</td>\n",
       "      <td>-0.000544</td>\n",
       "      <td>0.003228</td>\n",
       "      <td>-0.000633</td>\n",
       "      <td>0.006148</td>\n",
       "      <td>0.008159</td>\n",
       "      <td>-0.013608</td>\n",
       "      <td>0.003907</td>\n",
       "      <td>1.000000</td>\n",
       "    </tr>\n",
       "  </tbody>\n",
       "</table>\n",
       "</div>"
      ],
      "text/plain": [
       "                    transaction_id  km_travelled  price_charged  cost_of_trip  \\\n",
       "transaction_id            1.000000     -0.001429      -0.052902     -0.003462   \n",
       "km_travelled             -0.001429      1.000000       0.835753      0.981848   \n",
       "price_charged            -0.052902      0.835753       1.000000      0.859812   \n",
       "cost_of_trip             -0.003462      0.981848       0.859812      1.000000   \n",
       "trip_profit              -0.087130      0.462768       0.864154      0.486056   \n",
       "profit_km                -0.110524     -0.000538       0.473222      0.031053   \n",
       "customer_id              -0.016912      0.000389      -0.177324      0.003077   \n",
       "age                      -0.001267     -0.000369      -0.003084     -0.000189   \n",
       "income_(usd/month)       -0.001570     -0.000544       0.003228     -0.000633   \n",
       "\n",
       "                    trip_profit  profit_km  customer_id       age  \\\n",
       "transaction_id        -0.087130  -0.110524    -0.016912 -0.001267   \n",
       "km_travelled           0.462768  -0.000538     0.000389 -0.000369   \n",
       "price_charged          0.864154   0.473222    -0.177324 -0.003084   \n",
       "cost_of_trip           0.486056   0.031053     0.003077 -0.000189   \n",
       "trip_profit            1.000000   0.779330    -0.306527 -0.005093   \n",
       "profit_km              0.779330   1.000000    -0.394133 -0.006428   \n",
       "customer_id           -0.306527  -0.394133     1.000000 -0.004735   \n",
       "age                   -0.005093  -0.006428    -0.004735  1.000000   \n",
       "income_(usd/month)     0.006148   0.008159    -0.013608  0.003907   \n",
       "\n",
       "                    income_(usd/month)  \n",
       "transaction_id               -0.001570  \n",
       "km_travelled                 -0.000544  \n",
       "price_charged                 0.003228  \n",
       "cost_of_trip                 -0.000633  \n",
       "trip_profit                   0.006148  \n",
       "profit_km                     0.008159  \n",
       "customer_id                  -0.013608  \n",
       "age                           0.003907  \n",
       "income_(usd/month)            1.000000  "
      ]
     },
     "execution_count": 26,
     "metadata": {},
     "output_type": "execute_result"
    }
   ],
   "source": [
    "df_master.corr()"
   ]
  },
  {
   "cell_type": "code",
   "execution_count": 28,
   "id": "a39c5a2a",
   "metadata": {},
   "outputs": [
    {
     "data": {
      "text/plain": [
       "<AxesSubplot:>"
      ]
     },
     "execution_count": 28,
     "metadata": {},
     "output_type": "execute_result"
    },
    {
     "data": {
      "image/png": "[encoded data removed]",
      "text/plain": [
       "<Figure size 792x648 with 2 Axes>"
      ]
     },
     "metadata": {
      "needs_background": "light"
     },
     "output_type": "display_data"
    }
   ],
   "source": [
    "# Generate a mask for the upper triangle\n",
    "mask = np.triu(np.ones_like(df_master.corr(), dtype=bool))\n",
    "\n",
    "# Set up the matplotlib figure\n",
    "f, ax = plt.subplots(figsize=(11, 9))\n",
    "\n",
    "# Generate a custom diverging colormap\n",
    "cmap = sns.diverging_palette(230, 20, as_cmap=True)\n",
    "\n",
    "# Draw the heatmap with the mask and correct aspect ratio\n",
    "sns.heatmap(df_master.corr(), mask=mask, cmap=cmap, center=0,\n",
    "            square=True, linewidths=.5, cbar_kws={\"shrink\": .5})"
   ]
  },
  {
   "cell_type": "markdown",
   "id": "039706cf",
   "metadata": {},
   "source": [
    "Correlation is only observed between the price and cost variables as well as the two columns that have been calculated from them.\n"
   ]
  }
 ],
 "metadata": {
  "kernelspec": {
   "display_name": "Python 3 (ipykernel)",
   "language": "python",
   "name": "python3"
  },
  "language_info": {
   "codemirror_mode": {
    "name": "ipython",
    "version": 3
   },
   "file_extension": ".py",
   "mimetype": "text/x-python",
   "name": "python",
   "nbconvert_exporter": "python",
   "pygments_lexer": "ipython3",
   "version": "3.10.0"
  }
 },
 "nbformat": 4,
 "nbformat_minor": 5
}
